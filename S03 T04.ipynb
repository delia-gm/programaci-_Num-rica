{
 "cells": [
  {
   "cell_type": "markdown",
   "id": "f4a90eab",
   "metadata": {},
   "source": [
    "# S03 T04: Pràctica amb programació numèrica"
   ]
  },
  {
   "cell_type": "markdown",
   "id": "10566b27",
   "metadata": {},
   "source": [
    "#### Exercici 1: Crea una funció que donat un Array d’una dimensió, et faci un resum estadístic bàsic de les dades. Si detecta que l’array té més d’una dimensió, ha de mostrar un missatge d’error."
   ]
  },
  {
   "cell_type": "code",
   "execution_count": 48,
   "id": "5a1d006e",
   "metadata": {},
   "outputs": [],
   "source": [
    "import numpy as np\n",
    "\n",
    "def estadistica(m):\n",
    "    if m.ndim > 1:\n",
    "        print('Error. la matriu ha de ser 1D')\n",
    "    else: \n",
    "        print('La mitjana és: ' + str(m.mean()))\n",
    "        print('La mediana és: ' + str(np.median(m)))\n",
    "        print('El coeficient de correlació és: ' + str(np.corrcoef(m)))\n",
    "        print('La desviació estàndard és: ' + str(np.std(m)))"
   ]
  },
  {
   "cell_type": "code",
   "execution_count": 49,
   "id": "602d975c",
   "metadata": {},
   "outputs": [
    {
     "name": "stdout",
     "output_type": "stream",
     "text": [
      "La mitjana és: 2.8\n",
      "La mediana és: 3.0\n",
      "El coeficient de correlació és: 1.0\n",
      "La desviació estàndard és: 0.7483314773547882\n"
     ]
    }
   ],
   "source": [
    "# provem la funció en un array 1D: \n",
    "\n",
    "m = np.array([2, 3, 4, 3, 2])\n",
    "estadistica(m)"
   ]
  },
  {
   "cell_type": "code",
   "execution_count": 50,
   "id": "d5a020ae",
   "metadata": {},
   "outputs": [
    {
     "name": "stdout",
     "output_type": "stream",
     "text": [
      "Error. la matriu ha de ser 1D\n"
     ]
    }
   ],
   "source": [
    "# provem la funció en un array > 1D: \n",
    "\n",
    "a = np.array([[2, 3, 4], [3, 2, 3]])\n",
    "estadistica(a)"
   ]
  },
  {
   "cell_type": "markdown",
   "id": "895c7b9b",
   "metadata": {},
   "source": [
    "#### Exercici 2: Crea una funció que et generi un quadrat NxN de nombres aleatoris entre el 0 i el 100."
   ]
  },
  {
   "cell_type": "code",
   "execution_count": 198,
   "id": "d5296e4f",
   "metadata": {},
   "outputs": [],
   "source": [
    "def quadrat(N):\n",
    "    N = int(input('Introdueix un nombre enter N per generar una matriu NxN: '))\n",
    "    return np.random.randint(0, 101, size=(N, N))"
   ]
  },
  {
   "cell_type": "code",
   "execution_count": 193,
   "id": "d319e79b",
   "metadata": {},
   "outputs": [
    {
     "name": "stdout",
     "output_type": "stream",
     "text": [
      "Introdueix un nombre enter N per generar una matriu NxN: 4\n"
     ]
    },
    {
     "data": {
      "text/plain": [
       "array([[51, 27, 86, 43],\n",
       "       [66, 43, 62, 89],\n",
       "       [ 3,  4, 75, 39],\n",
       "       [15, 53, 49, 87]])"
      ]
     },
     "execution_count": 193,
     "metadata": {},
     "output_type": "execute_result"
    }
   ],
   "source": [
    "# provem la funció: \n",
    "\n",
    "quadrat(N)"
   ]
  },
  {
   "cell_type": "code",
   "execution_count": 283,
   "id": "27ad6568",
   "metadata": {},
   "outputs": [
    {
     "name": "stdout",
     "output_type": "stream",
     "text": [
      "Tria un valor de N per crear una matriu NxN: 3\n",
      "[[1, 78, 37], [16, 42, 42], [95, 12, 87]]\n"
     ]
    }
   ],
   "source": [
    "import random\n",
    "res = []\n",
    "N = int(input('Tria un valor de N per crear una matriu NxN: '))\n",
    "for x in range (0,N):\n",
    "    line = []\n",
    "    for y in range (0,N):\n",
    "        line.append(int(random.uniform(0,101)))\n",
    "    res.append(line)\n",
    "\n",
    "print(res)"
   ]
  },
  {
   "cell_type": "markdown",
   "id": "a08709df",
   "metadata": {},
   "source": [
    "#### Exercici 3: Crea una funció que donada una taula de dues dimensions, et calculi els totals per fila i els totals per columna."
   ]
  },
  {
   "cell_type": "code",
   "execution_count": 171,
   "id": "101d5dd5",
   "metadata": {},
   "outputs": [],
   "source": [
    "def sumatori(m):\n",
    "    #suma files\n",
    "    files = m.sum(axis=1)\n",
    "    print('el sumatori de les files és: ' + str(files))\n",
    "\n",
    "    #suma columnes\n",
    "    columnes = m.sum(axis=0)\n",
    "    print('El sumatori de les columnes és: ' + str(columnes)) "
   ]
  },
  {
   "cell_type": "code",
   "execution_count": 284,
   "id": "195b0f5c",
   "metadata": {},
   "outputs": [
    {
     "name": "stdout",
     "output_type": "stream",
     "text": [
      "el sumatori de les files és: [ 3 12]\n",
      "El sumatori de les columnes és: [4 6 5]\n"
     ]
    }
   ],
   "source": [
    "# provem la funció amb un exemple: \n",
    "\n",
    "a = np.array([\n",
    "    [1, 2, 0],\n",
    "    [3, 4, 5]])\n",
    "\n",
    "sumatori(a)"
   ]
  },
  {
   "cell_type": "markdown",
   "id": "9f99e204",
   "metadata": {},
   "source": [
    "#### Exercici 4: Implementa manualment una funció que calculi el coeficient de correlació. Informa-te'n sobre els seus usos i interpretació."
   ]
  },
  {
   "cell_type": "code",
   "execution_count": 311,
   "id": "ecaef711",
   "metadata": {},
   "outputs": [],
   "source": [
    "def coeficient_correlacio (X, Y):\n",
    "\n",
    "# primer calculem la mitjana dels conjunts de dades: \n",
    "    mean_X = sum(X) / len(X)\n",
    "    mean_Y = sum(Y) / len(Y)\n",
    "\n",
    "# COVARIANÇA(X,Y):\n",
    "    XY = []\n",
    "    for i in range (0, len(X)):\n",
    "        XY.append(X[i]*Y[i])\n",
    "    mean_XY = sum(XY) / len(XY)\n",
    "\n",
    "    cov_XY = mean_XY - (mean_X * mean_Y)\n",
    "    print('La covariança entre les variables és: ' + str(cov_XY)) \n",
    "    \n",
    "    if cov_XY > 0:\n",
    "        print('Dependència directa (positiva) entre variables.') \n",
    "    if cov_XY < 0:\n",
    "        print('Dependència inversa o negativa entre variables.')\n",
    "    if cov_XY == 0:\n",
    "        print('no existeix relació lineal entre ambdues variables.')\n",
    "    \n",
    "# DESVIACIÓ TÍPICA(SD):\n",
    "    X_sqr = 0\n",
    "    for i in X:\n",
    "        X_sqr = X_sqr + (i**2)\n",
    "    SD_X = ((X_sqr / len(X)) - (mean_X**2))**0.5  \n",
    "\n",
    "    \n",
    "    Y_sqr = 0\n",
    "    for i in Y:\n",
    "        Y_sqr = Y_sqr + (i**2)\n",
    "    SD_Y = ((Y_sqr / len(Y)) - (mean_Y**2))**0.5\n",
    "    \n",
    "    \n",
    "# COEFICIENT CORRELACIÓ (R):\n",
    "# R = covar(x,y) / (desv. típ. X * desv. típ. Y)\n",
    "\n",
    "    R = cov_XY / (SD_X * SD_Y)\n",
    "    print('El coeficient de correlació és: ' + str(R))\n",
    "    \n",
    "    if R == 1:\n",
    "        print('Correlació positiva perfecta: dependència total entre les dues variables. Si una augmenta, l\\'altra també ho fa en proporció constrant.')\n",
    "    if 0 < R < 1:\n",
    "        print('Correlació positiva. A valors alts d\\'una variable li corresponen valors alts de l\\'altra, i igualment amb els valors baixos.')\n",
    "    if R == 0:\n",
    "        print('No existeix relació lineal entre variables.')\n",
    "    if -1 < R < 0:\n",
    "        print('Correlació negativa. A valors alts d\\'una de les variables li corresponen valors baixos de l\\'altra i viceversa.')\n",
    "    if R == -1:\n",
    "        print('Correlació negativa/inversa perfecta: dependència total entre les dues variables. Quan una agumenta, l\\'altra disminueix en la mateixa proporció.')    "
   ]
  },
  {
   "cell_type": "code",
   "execution_count": 312,
   "id": "67171f35",
   "metadata": {},
   "outputs": [
    {
     "name": "stdout",
     "output_type": "stream",
     "text": [
      "La covariança entre les variables és: 5.916666666666664\n",
      "Dependència directa (positiva) entre variables.\n",
      "El coeficient de correlació és: 0.9355071411331451\n",
      "Correlació positiva. A valors alts d'una variable li corresponen valors alts de l'altra, i igualment amb els valors baixos.\n"
     ]
    }
   ],
   "source": [
    "# provem la funció per veure la correlació de 12 estudiants entre les notes de mates i de física:\n",
    "\n",
    "mates = [2, 3, 4, 4, 5, 6, 6, 7, 7, 8, 10, 10]\n",
    "fisica = [1, 3, 2, 4, 4, 4, 6, 4, 6, 7, 9, 10]\n",
    "\n",
    "coeficient_correlacio (mates, fisica)"
   ]
  }
 ],
 "metadata": {
  "kernelspec": {
   "display_name": "Python 3",
   "language": "python",
   "name": "python3"
  },
  "language_info": {
   "codemirror_mode": {
    "name": "ipython",
    "version": 3
   },
   "file_extension": ".py",
   "mimetype": "text/x-python",
   "name": "python",
   "nbconvert_exporter": "python",
   "pygments_lexer": "ipython3",
   "version": "3.8.8"
  },
  "latex_envs": {
   "LaTeX_envs_menu_present": true,
   "autoclose": false,
   "autocomplete": true,
   "bibliofile": "biblio.bib",
   "cite_by": "apalike",
   "current_citInitial": 1,
   "eqLabelWithNumbers": true,
   "eqNumInitial": 1,
   "hotkeys": {
    "equation": "Ctrl-E",
    "itemize": "Ctrl-I"
   },
   "labels_anchors": false,
   "latex_user_defs": false,
   "report_style_numbering": false,
   "user_envs_cfg": false
  }
 },
 "nbformat": 4,
 "nbformat_minor": 5
}
